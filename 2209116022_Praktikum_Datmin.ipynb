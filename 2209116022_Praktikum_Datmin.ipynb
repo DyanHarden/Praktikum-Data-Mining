{
  "nbformat": 4,
  "nbformat_minor": 0,
  "metadata": {
    "colab": {
      "provenance": [],
      "authorship_tag": "ABX9TyMOoxbpRM0LEgCa8o536fBT",
      "include_colab_link": true
    },
    "kernelspec": {
      "name": "python3",
      "display_name": "Python 3"
    },
    "language_info": {
      "name": "python"
    }
  },
  "cells": [
    {
      "cell_type": "markdown",
      "metadata": {
        "id": "view-in-github",
        "colab_type": "text"
      },
      "source": [
        "<a href=\"https://colab.research.google.com/github/DyanHarden/Praktikum-Data-Mining/blob/main/2209116022_Praktikum_Datmin.ipynb\" target=\"_parent\"><img src=\"https://colab.research.google.com/assets/colab-badge.svg\" alt=\"Open In Colab\"/></a>"
      ]
    },
    {
      "cell_type": "markdown",
      "source": [
        "# Analisis Data Skor Benchmark Pada GPU (Graphic Processing Unit) Komputer Sebagai Bahan Acuan User Dalam Pembelian\n",
        "\n",
        "\n",
        "\n",
        "\n"
      ],
      "metadata": {
        "id": "hmDalgMRul21"
      }
    },
    {
      "cell_type": "markdown",
      "source": [
        "## Businnes Understanding"
      ],
      "metadata": {
        "id": "zRS08IzTx_V1"
      }
    },
    {
      "cell_type": "markdown",
      "source": [
        "- Bussines Objective\n",
        "\n",
        "Tujuan bisnis dari dataset ini adalah untuk menganalisis faktor-faktor yang memengaruhi keputusan pengguna dalam membeli VGA Card untuk komputer Mereka. Hal ini bertujuan untuk memberikan pemahaman yang lebih baik kepada produsen dan penjual GPU tentang preferensi pengguna serta meningkatkan keputusan pembelian yang efisien.\n",
        "Selain itu, tujuan bisnisnya adalah untuk mempromosikan dan mendorong penggunaan GPU dalam komputasi, sehingga meningkatkan kesadaran dalam adopsi teknologi GPU di berbagai bidang seperti gaming, desain grafis, dan kecerdasan buatan.\n",
        "\n",
        "- Assess Situation\n",
        "\n",
        "Situasi bisnis yang mendasari analisis ini adalah meningkatnya permintaan akan GPU untuk keperluan komputasi yang semakin kompleks. Di Sisi Lain, Terdapat berbagai pilihan GPU dengan beragam spesifikasi dan harga, namun pengguna sering kali menghadapi kesulitan dalam memilih GPU yang sesuai dengan preferensi kebutuhan dan anggaran mereka.\n",
        "\n",
        "- Data Mining Goals\n",
        "\n",
        "Tujuan dari Data Mining pada dataset ini adalah untuk memprediksi preferensi pengguna terhadap GPU berdasarkan skor test benchmark dan fitur-fitur pendukung lainnya. Selain itu, adalah untuk menganalisis faktor-faktor yang memengaruhi keputusan pembelian pengguna, seperti harga, performa, merek, dan kebutuhan spesifik. Melalui analisis data, diharapkan dapat meningkatkan pemahaman tentang preferensi dan kebutuhan pengguna dalam memilih GPU untuk komputer mereka.\n",
        "\n",
        "- Project Plan\n",
        "\n",
        "Rencana proyek untuk menganalisis dataset ini dimulai dengan pengumpulan data skor benchmark GPU dari berbagai sumber Data, kemudian akan dijelaskan karakteristiknya dan pola-pola yang menarik akan diidentifikasi, seperti tren performa GPU dari waktu ke waktu atau perbandingan antara berbagai merek GPU. Selanjutnya. Kualitas data akan dinilai dan masalah data akan diidentifikasi agar dapat diatasi dalam tahapan berikutnya, seperti penanganan data yang hilang atau outlier. Langkah-langkah ini penting untuk menjamin keberhasilan dari analisis data dan akurasi prediksi preferensi pengguna terhadap GPU."
      ],
      "metadata": {
        "id": "T49ilqfRyDdr"
      }
    },
    {
      "cell_type": "code",
      "source": [],
      "metadata": {
        "id": "02XcWlAVvNTB"
      },
      "execution_count": null,
      "outputs": []
    }
  ]
}